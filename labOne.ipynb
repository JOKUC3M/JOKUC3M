{
  "nbformat": 4,
  "nbformat_minor": 0,
  "metadata": {
    "colab": {
      "name": "labOne.ipynb",
      "provenance": [],
      "authorship_tag": "ABX9TyPdA45tZcGVqsAfRWNnEBpk",
      "include_colab_link": true
    },
    "kernelspec": {
      "name": "python3",
      "display_name": "Python 3"
    },
    "language_info": {
      "name": "python"
    }
  },
  "cells": [
    {
      "cell_type": "markdown",
      "metadata": {
        "id": "view-in-github",
        "colab_type": "text"
      },
      "source": [
        "<a href=\"https://colab.research.google.com/github/JOKUC3M/JOKUC3M/blob/main/labOne.ipynb\" target=\"_parent\"><img src=\"https://colab.research.google.com/assets/colab-badge.svg\" alt=\"Open In Colab\"/></a>"
      ]
    },
    {
      "cell_type": "markdown",
      "source": [
        "1. Write a program that declares and adds two integer variables (2, 10), then print out the result on the screen.\n",
        "Input: 2 and 10\n",
        "Expected output:"
      ],
      "metadata": {
        "id": "qVmYeClTpK2w"
      }
    },
    {
      "cell_type": "code",
      "execution_count": 2,
      "metadata": {
        "colab": {
          "base_uri": "https://localhost:8080/"
        },
        "id": "A85TrfrJo-sz",
        "outputId": "f89e5383-a61d-4681-c0d0-b261e2b572db"
      },
      "outputs": [
        {
          "output_type": "stream",
          "name": "stdout",
          "text": [
            "11\n"
          ]
        }
      ],
      "source": [
        "\n",
        "def addTwoVariables(x,y):\n",
        "  j = x + y\n",
        "  print (j)\n",
        "addTwoVariables(5,6)"
      ]
    },
    {
      "cell_type": "markdown",
      "source": [
        "2. Write a program that asks the user to input an integer value, then print out the input value multiplied by 2."
      ],
      "metadata": {
        "id": "L2gJSkgmpoa1"
      }
    },
    {
      "cell_type": "markdown",
      "source": [
        ""
      ],
      "metadata": {
        "id": "UDbXpNPtqUgU"
      }
    },
    {
      "cell_type": "code",
      "source": [
        "def double (x):\n",
        "  j = x * 2\n",
        "  print (\"The result is:\", j)\n",
        "double(30)"
      ],
      "metadata": {
        "colab": {
          "base_uri": "https://localhost:8080/"
        },
        "id": "vs_P98O4p1vt",
        "outputId": "920378fa-de50-4113-91b1-8a704984b67b"
      },
      "execution_count": 5,
      "outputs": [
        {
          "output_type": "stream",
          "name": "stdout",
          "text": [
            "The result is: 60\n"
          ]
        }
      ]
    },
    {
      "cell_type": "markdown",
      "source": [
        "3. Write a program that asks your name and prints out \"Hello \" #name#, and save it"
      ],
      "metadata": {
        "id": "PE2kbjMiqY7E"
      }
    },
    {
      "cell_type": "code",
      "source": [
        "name = input(\"What is your name?\")\n",
        "print (\"Hello\",name)"
      ],
      "metadata": {
        "colab": {
          "base_uri": "https://localhost:8080/"
        },
        "id": "JshjxtLppN_w",
        "outputId": "a8545efb-39b2-48f2-a318-7ff2aa6a7b7e"
      },
      "execution_count": 7,
      "outputs": [
        {
          "output_type": "stream",
          "name": "stdout",
          "text": [
            "What is your name?Jack\n",
            "Hello Jack\n"
          ]
        }
      ]
    }
  ]
}