{
  "nbformat": 4,
  "nbformat_minor": 0,
  "metadata": {
    "colab": {
      "name": "labOne.ipynb",
      "provenance": [],
      "authorship_tag": "ABX9TyN5ZyHXaMyx9wVz4q0b0//Y",
      "include_colab_link": true
    },
    "kernelspec": {
      "name": "python3",
      "display_name": "Python 3"
    },
    "language_info": {
      "name": "python"
    }
  },
  "cells": [
    {
      "cell_type": "markdown",
      "metadata": {
        "id": "view-in-github",
        "colab_type": "text"
      },
      "source": [
        "<a href=\"https://colab.research.google.com/github/JOKUC3M/JOKUC3M/blob/main/exercisesOne.ipynb\" target=\"_parent\"><img src=\"https://colab.research.google.com/assets/colab-badge.svg\" alt=\"Open In Colab\"/></a>"
      ]
    },
    {
      "cell_type": "markdown",
      "source": [
        "1. Write a program that declares and adds two integer variables (2, 10), then print out the result on the screen.\n",
        "Input: 2 and 10\n",
        "Expected output:"
      ],
      "metadata": {
        "id": "qVmYeClTpK2w"
      }
    },
    {
      "cell_type": "code",
      "execution_count": null,
      "metadata": {
        "colab": {
          "base_uri": "https://localhost:8080/"
        },
        "id": "A85TrfrJo-sz",
        "outputId": "f89e5383-a61d-4681-c0d0-b261e2b572db"
      },
      "outputs": [
        {
          "output_type": "stream",
          "name": "stdout",
          "text": [
            "11\n"
          ]
        }
      ],
      "source": [
        "\n",
        "def addTwoVariables(x,y):\n",
        "  j = x + y\n",
        "  print (j)\n",
        "addTwoVariables(5,6)"
      ]
    },
    {
      "cell_type": "markdown",
      "source": [
        "2. Write a program that asks the user to input an integer value, then print out the input value multiplied by 2."
      ],
      "metadata": {
        "id": "L2gJSkgmpoa1"
      }
    },
    {
      "cell_type": "markdown",
      "source": [
        ""
      ],
      "metadata": {
        "id": "UDbXpNPtqUgU"
      }
    },
    {
      "cell_type": "code",
      "source": [
        "def double (x):\n",
        "  j = x * 2\n",
        "  print (\"The result is:\", j)\n",
        "double(30)"
      ],
      "metadata": {
        "colab": {
          "base_uri": "https://localhost:8080/"
        },
        "id": "vs_P98O4p1vt",
        "outputId": "920378fa-de50-4113-91b1-8a704984b67b"
      },
      "execution_count": null,
      "outputs": [
        {
          "output_type": "stream",
          "name": "stdout",
          "text": [
            "The result is: 60\n"
          ]
        }
      ]
    },
    {
      "cell_type": "markdown",
      "source": [
        "3. Write a program that asks your name and prints out \"Hello \" #name#, and save it"
      ],
      "metadata": {
        "id": "PE2kbjMiqY7E"
      }
    },
    {
      "cell_type": "code",
      "source": [
        "name = input(\"What is your name?\")\n",
        "print (\"Hello\",name)"
      ],
      "metadata": {
        "colab": {
          "base_uri": "https://localhost:8080/"
        },
        "id": "JshjxtLppN_w",
        "outputId": "a8545efb-39b2-48f2-a318-7ff2aa6a7b7e"
      },
      "execution_count": null,
      "outputs": [
        {
          "output_type": "stream",
          "name": "stdout",
          "text": [
            "What is your name?Jack\n",
            "Hello Jack\n"
          ]
        }
      ]
    },
    {
      "cell_type": "code",
      "source": [
        "!git clone https://github.com/JOKUC3M/JOKUC3M.git"
      ],
      "metadata": {
        "colab": {
          "base_uri": "https://localhost:8080/"
        },
        "id": "uV1bFwcGMHVW",
        "outputId": "94398a32-29ab-4920-ad62-6fd988737dd6"
      },
      "execution_count": null,
      "outputs": [
        {
          "output_type": "stream",
          "name": "stdout",
          "text": [
            "Cloning into 'JOKUC3M'...\n",
            "remote: Enumerating objects: 6, done.\u001b[K\n",
            "remote: Counting objects: 100% (6/6), done.\u001b[K\n",
            "remote: Compressing objects: 100% (5/5), done.\u001b[K\n",
            "remote: Total 6 (delta 0), reused 0 (delta 0), pack-reused 0\u001b[K\n",
            "Unpacking objects: 100% (6/6), done.\n"
          ]
        }
      ]
    },
    {
      "cell_type": "markdown",
      "source": [
        "9. Write a program that asks the year of birth and prints out your age."
      ],
      "metadata": {
        "id": "OJjZQEhgGraD"
      }
    },
    {
      "cell_type": "code",
      "source": [
        "def YoB ():\n",
        "  year = input(\"Enter your date of birth: \")\n",
        "  year = int(year)\n",
        "  age = year - 2022\n",
        "  print (abs(age))\n",
        "\n",
        "YoB()"
      ],
      "metadata": {
        "colab": {
          "base_uri": "https://localhost:8080/"
        },
        "id": "mCbqANB8GvQj",
        "outputId": "425369af-3ddb-4ee9-cb93-5db036ee9549"
      },
      "execution_count": null,
      "outputs": [
        {
          "output_type": "stream",
          "name": "stdout",
          "text": [
            "Enter your date of birth: 1999\n",
            "23\n"
          ]
        }
      ]
    },
    {
      "cell_type": "markdown",
      "source": [
        "10. Write a program that asks the temperature in Kelvin degress and prints out the temperature in Celsius. "
      ],
      "metadata": {
        "id": "XHrPOah1Ibe8"
      }
    },
    {
      "cell_type": "code",
      "source": [
        "def kelToCel():\n",
        "  kel = input (\"Enter the temperature in Kelvin: \")\n",
        "  cel = int(kel) - 273.15\n",
        "  print (cel)\n",
        "\n",
        "kelToCel()"
      ],
      "metadata": {
        "colab": {
          "base_uri": "https://localhost:8080/"
        },
        "id": "W1W1XG8DIdH_",
        "outputId": "37896f26-1fd2-4fee-b31f-27f0773bba05"
      },
      "execution_count": null,
      "outputs": [
        {
          "output_type": "stream",
          "name": "stdout",
          "text": [
            "Enter the temperature in Kelvin: 300\n",
            "26.850000000000023\n"
          ]
        }
      ]
    },
    {
      "cell_type": "markdown",
      "source": [
        "11. Write a program that asks a number and prints True if the number is odd, and False otherwise"
      ],
      "metadata": {
        "id": "qmBLrMNSJ3_9"
      }
    },
    {
      "cell_type": "code",
      "source": [
        "def oddEven (num):\n",
        "  if int(num) % 2 == 1:\n",
        "    print (\"True\")\n",
        "  else: \n",
        "    print (\"False\")\n",
        "\n",
        "num = input(\"Enter number: \")\n",
        "oddEven(num)"
      ],
      "metadata": {
        "colab": {
          "base_uri": "https://localhost:8080/"
        },
        "id": "GvtM-5ijJ5nm",
        "outputId": "83728be3-cc17-4963-f5dc-1e2c868b49b2"
      },
      "execution_count": null,
      "outputs": [
        {
          "output_type": "stream",
          "name": "stdout",
          "text": [
            "Enter number: 31\n",
            "True\n"
          ]
        }
      ]
    },
    {
      "cell_type": "markdown",
      "source": [
        ""
      ],
      "metadata": {
        "id": "-GG7Rl4bIefD"
      }
    },
    {
      "cell_type": "markdown",
      "source": [
        "12. Write a program that asks for a year and prints True if the year is a leap year, and False otherwise. In the Gregorian\n",
        "calendar, a leap year follows these rules:"
      ],
      "metadata": {
        "id": "W-0P9ZFmK-aC"
      }
    },
    {
      "cell_type": "code",
      "source": [
        "def leapYear (x):\n",
        "  if int(x) % 4 == 0:\n",
        "    print (\"The year \",x,\"is a leap year\")\n",
        "    if int(x) % 100 == 0 & int(x) % 400 == 0:\n",
        "      print (\"The year \",x,\" is a leap year\")\n",
        "  else:\n",
        "    print (\"The year \",x,\"is NOT a leap year\")\n",
        "\n",
        "year = input (\"Enter a year: \")\n",
        "leapYear(year)"
      ],
      "metadata": {
        "colab": {
          "base_uri": "https://localhost:8080/"
        },
        "id": "e_P0ba75LHCb",
        "outputId": "3df3f29f-689d-4b3a-d676-c30bd4638beb"
      },
      "execution_count": null,
      "outputs": [
        {
          "output_type": "stream",
          "name": "stdout",
          "text": [
            "Enter a year: 2028\n",
            "The year  2028 is a leap year\n"
          ]
        }
      ]
    },
    {
      "cell_type": "markdown",
      "source": [
        "13. Write a program calculates the area of a triangle."
      ],
      "metadata": {
        "id": "tBKl59mWOovB"
      }
    },
    {
      "cell_type": "code",
      "source": [
        "def areaOfTriangle (x,y):\n",
        "  area = ((x*y)/2)\n",
        "  print (area)\n",
        "\n",
        "b = input (\"Enter base width: \")\n",
        "convertB = float(b)\n",
        "h = input (\"Enter height: \")\n",
        "convertH = float(h)\n",
        "areaOfTriangle(convertB,convertH)\n",
        "\n"
      ],
      "metadata": {
        "colab": {
          "base_uri": "https://localhost:8080/"
        },
        "id": "c1GMxUkCOvZ9",
        "outputId": "a1d344bf-791a-4e08-c7dc-a2e165dd39a6"
      },
      "execution_count": null,
      "outputs": [
        {
          "output_type": "stream",
          "name": "stdout",
          "text": [
            "Enter base width: 2\n",
            "Enter height: 3\n",
            "3.0\n"
          ]
        }
      ]
    },
    {
      "cell_type": "markdown",
      "source": [
        "14. Write a program to calculate the Euclidean distance between two points"
      ],
      "metadata": {
        "id": "cFOGgNg6Tj43"
      }
    },
    {
      "cell_type": "code",
      "source": [
        "import math\n",
        "\n",
        "def distance(x1,x2,y1,y2):\n",
        "    d = math.sqrt((x1-x2)*(x1-x2)+(y1-y2)*(y1-y2))\n",
        "    print (\"The distance is:\",d,)\n",
        "  \n",
        "x1 = int(input(\"Enter value 1: \"))\n",
        "x2 = int(input(\"Enter value 2: \"))\n",
        "y1 = int(input(\"Enter value 3: \")) \n",
        "y2 = int(input(\"Enter value 4: \"))\n",
        "distance(x1,x2,y1,y2)\n",
        "\n"
      ],
      "metadata": {
        "colab": {
          "base_uri": "https://localhost:8080/"
        },
        "id": "zCQJurKuRU-f",
        "outputId": "4804ee08-b103-48ef-9450-12e7c7c5382c"
      },
      "execution_count": null,
      "outputs": [
        {
          "output_type": "stream",
          "name": "stdout",
          "text": [
            "Enter value 1 2\n",
            "Enter value 2 3\n",
            "Enter value 3 4\n",
            "Enter value 4 5\n",
            "The distance is:  1.4142135623730951\n"
          ]
        }
      ]
    }
  ]
}